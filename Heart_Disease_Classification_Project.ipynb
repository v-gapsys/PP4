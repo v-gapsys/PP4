{
 "cells": [
  {
   "cell_type": "markdown",
   "id": "8b75b73a",
   "metadata": {},
   "source": [
    "Imports"
   ]
  },
  {
   "cell_type": "code",
   "execution_count": 1,
   "id": "cb677f16",
   "metadata": {},
   "outputs": [],
   "source": [
    "import pandas as pd\n",
    "import matplotlib.pyplot as plt\n",
    "from sklearn.preprocessing import StandardScaler\n",
    "from sklearn.model_selection import train_test_split\n",
    "from sklearn.linear_model import LogisticRegression\n",
    "from sklearn.ensemble import RandomForestClassifier\n",
    "from sklearn.svm import SVC\n",
    "from sklearn.model_selection import StratifiedKFold, cross_val_score\n",
    "from sklearn.metrics import make_scorer, f1_score\n",
    "from sklearn.metrics import f1_score, accuracy_score, confusion_matrix, classification_report, ConfusionMatrixDisplay\n",
    "from sklearn.model_selection import GridSearchCV, StratifiedKFold\n",
    "from sklearn.metrics import roc_curve, auc, RocCurveDisplay\n",
    "from sklearn.decomposition import PCA\n"
   ]
  },
  {
   "cell_type": "markdown",
   "id": "f423a88a",
   "metadata": {},
   "source": [
    "Data loading"
   ]
  },
  {
   "cell_type": "code",
   "execution_count": 2,
   "id": "e96a94ca",
   "metadata": {},
   "outputs": [
    {
     "data": {
      "text/html": [
       "<div>\n",
       "<style scoped>\n",
       "    .dataframe tbody tr th:only-of-type {\n",
       "        vertical-align: middle;\n",
       "    }\n",
       "\n",
       "    .dataframe tbody tr th {\n",
       "        vertical-align: top;\n",
       "    }\n",
       "\n",
       "    .dataframe thead th {\n",
       "        text-align: right;\n",
       "    }\n",
       "</style>\n",
       "<table border=\"1\" class=\"dataframe\">\n",
       "  <thead>\n",
       "    <tr style=\"text-align: right;\">\n",
       "      <th></th>\n",
       "      <th>age</th>\n",
       "      <th>sex</th>\n",
       "      <th>cp</th>\n",
       "      <th>trestbps</th>\n",
       "      <th>chol</th>\n",
       "      <th>fbs</th>\n",
       "      <th>restecg</th>\n",
       "      <th>thalach</th>\n",
       "      <th>exang</th>\n",
       "      <th>oldpeak</th>\n",
       "      <th>slope</th>\n",
       "      <th>ca</th>\n",
       "      <th>thal</th>\n",
       "      <th>target</th>\n",
       "    </tr>\n",
       "  </thead>\n",
       "  <tbody>\n",
       "    <tr>\n",
       "      <th>0</th>\n",
       "      <td>63</td>\n",
       "      <td>1</td>\n",
       "      <td>0</td>\n",
       "      <td>145</td>\n",
       "      <td>233</td>\n",
       "      <td>1</td>\n",
       "      <td>2</td>\n",
       "      <td>150</td>\n",
       "      <td>0</td>\n",
       "      <td>2.3</td>\n",
       "      <td>2</td>\n",
       "      <td>0</td>\n",
       "      <td>2</td>\n",
       "      <td>0</td>\n",
       "    </tr>\n",
       "    <tr>\n",
       "      <th>1</th>\n",
       "      <td>67</td>\n",
       "      <td>1</td>\n",
       "      <td>3</td>\n",
       "      <td>160</td>\n",
       "      <td>286</td>\n",
       "      <td>0</td>\n",
       "      <td>2</td>\n",
       "      <td>108</td>\n",
       "      <td>1</td>\n",
       "      <td>1.5</td>\n",
       "      <td>1</td>\n",
       "      <td>3</td>\n",
       "      <td>1</td>\n",
       "      <td>1</td>\n",
       "    </tr>\n",
       "    <tr>\n",
       "      <th>2</th>\n",
       "      <td>67</td>\n",
       "      <td>1</td>\n",
       "      <td>3</td>\n",
       "      <td>120</td>\n",
       "      <td>229</td>\n",
       "      <td>0</td>\n",
       "      <td>2</td>\n",
       "      <td>129</td>\n",
       "      <td>1</td>\n",
       "      <td>2.6</td>\n",
       "      <td>1</td>\n",
       "      <td>2</td>\n",
       "      <td>3</td>\n",
       "      <td>1</td>\n",
       "    </tr>\n",
       "    <tr>\n",
       "      <th>3</th>\n",
       "      <td>37</td>\n",
       "      <td>1</td>\n",
       "      <td>2</td>\n",
       "      <td>130</td>\n",
       "      <td>250</td>\n",
       "      <td>0</td>\n",
       "      <td>0</td>\n",
       "      <td>187</td>\n",
       "      <td>0</td>\n",
       "      <td>3.5</td>\n",
       "      <td>2</td>\n",
       "      <td>0</td>\n",
       "      <td>1</td>\n",
       "      <td>0</td>\n",
       "    </tr>\n",
       "    <tr>\n",
       "      <th>4</th>\n",
       "      <td>41</td>\n",
       "      <td>0</td>\n",
       "      <td>1</td>\n",
       "      <td>130</td>\n",
       "      <td>204</td>\n",
       "      <td>0</td>\n",
       "      <td>2</td>\n",
       "      <td>172</td>\n",
       "      <td>0</td>\n",
       "      <td>1.4</td>\n",
       "      <td>0</td>\n",
       "      <td>0</td>\n",
       "      <td>1</td>\n",
       "      <td>0</td>\n",
       "    </tr>\n",
       "  </tbody>\n",
       "</table>\n",
       "</div>"
      ],
      "text/plain": [
       "   age  sex  cp  trestbps  chol  fbs  restecg  thalach  exang  oldpeak  slope  \\\n",
       "0   63    1   0       145   233    1        2      150      0      2.3      2   \n",
       "1   67    1   3       160   286    0        2      108      1      1.5      1   \n",
       "2   67    1   3       120   229    0        2      129      1      2.6      1   \n",
       "3   37    1   2       130   250    0        0      187      0      3.5      2   \n",
       "4   41    0   1       130   204    0        2      172      0      1.4      0   \n",
       "\n",
       "   ca  thal  target  \n",
       "0   0     2       0  \n",
       "1   3     1       1  \n",
       "2   2     3       1  \n",
       "3   0     1       0  \n",
       "4   0     1       0  "
      ]
     },
     "execution_count": 2,
     "metadata": {},
     "output_type": "execute_result"
    }
   ],
   "source": [
    "df = pd.read_csv('Heart_disease_cleveland_new.csv')\n",
    "df.head()"
   ]
  },
  {
   "cell_type": "markdown",
   "id": "80ec7160",
   "metadata": {},
   "source": [
    "Data exploration\n"
   ]
  },
  {
   "cell_type": "code",
   "execution_count": 3,
   "id": "af6c1c22",
   "metadata": {},
   "outputs": [
    {
     "name": "stdout",
     "output_type": "stream",
     "text": [
      "--- Data Info ---\n",
      "<class 'pandas.core.frame.DataFrame'>\n",
      "RangeIndex: 303 entries, 0 to 302\n",
      "Data columns (total 14 columns):\n",
      " #   Column    Non-Null Count  Dtype  \n",
      "---  ------    --------------  -----  \n",
      " 0   age       303 non-null    int64  \n",
      " 1   sex       303 non-null    int64  \n",
      " 2   cp        303 non-null    int64  \n",
      " 3   trestbps  303 non-null    int64  \n",
      " 4   chol      303 non-null    int64  \n",
      " 5   fbs       303 non-null    int64  \n",
      " 6   restecg   303 non-null    int64  \n",
      " 7   thalach   303 non-null    int64  \n",
      " 8   exang     303 non-null    int64  \n",
      " 9   oldpeak   303 non-null    float64\n",
      " 10  slope     303 non-null    int64  \n",
      " 11  ca        303 non-null    int64  \n",
      " 12  thal      303 non-null    int64  \n",
      " 13  target    303 non-null    int64  \n",
      "dtypes: float64(1), int64(13)\n",
      "memory usage: 33.3 KB\n",
      "\n",
      "--- Missing Values ---\n",
      "age         0\n",
      "sex         0\n",
      "cp          0\n",
      "trestbps    0\n",
      "chol        0\n",
      "fbs         0\n",
      "restecg     0\n",
      "thalach     0\n",
      "exang       0\n",
      "oldpeak     0\n",
      "slope       0\n",
      "ca          0\n",
      "thal        0\n",
      "target      0\n",
      "dtype: int64\n",
      "--- Duplicate Rows ---\n",
      "0\n"
     ]
    }
   ],
   "source": [
    "print('--- Data Info ---')\n",
    "df.info()\n",
    "print('\\n--- Missing Values ---')\n",
    "print(df.isnull().sum())\n",
    "print(\"--- Duplicate Rows ---\")\n",
    "print(df.duplicated().sum())\n"
   ]
  },
  {
   "cell_type": "code",
   "execution_count": 4,
   "id": "23384205",
   "metadata": {},
   "outputs": [
    {
     "name": "stdout",
     "output_type": "stream",
     "text": [
      "\n",
      "--- Categorical Features ---\n",
      "sex: unique values in data = [np.int64(0), np.int64(1)], expected = [0, 1]\n",
      "cp: unique values in data = [np.int64(0), np.int64(1), np.int64(2), np.int64(3)], expected = [0, 1, 2, 3]\n",
      "fbs: unique values in data = [np.int64(0), np.int64(1)], expected = [0, 1]\n",
      "restecg: unique values in data = [np.int64(0), np.int64(1), np.int64(2)], expected = [0, 1, 2]\n",
      "exang: unique values in data = [np.int64(0), np.int64(1)], expected = [0, 1]\n",
      "slope: unique values in data = [np.int64(0), np.int64(1), np.int64(2)], expected = [0, 1, 2]\n",
      "ca: unique values in data = [np.int64(0), np.int64(1), np.int64(2), np.int64(3)], expected = [0, 1, 2, 3, 4]\n",
      "  WARNING: Unexpected value(s) in ca!\n",
      "\n",
      "thal: unique values in data = [np.int64(1), np.int64(2), np.int64(3)], expected = [1, 2, 3]\n",
      "target: unique values in data = [np.int64(0), np.int64(1)], expected = [0, 1]\n",
      "\n",
      "--- Basic Statistics ---\n"
     ]
    },
    {
     "data": {
      "text/html": [
       "<div>\n",
       "<style scoped>\n",
       "    .dataframe tbody tr th:only-of-type {\n",
       "        vertical-align: middle;\n",
       "    }\n",
       "\n",
       "    .dataframe tbody tr th {\n",
       "        vertical-align: top;\n",
       "    }\n",
       "\n",
       "    .dataframe thead th {\n",
       "        text-align: right;\n",
       "    }\n",
       "</style>\n",
       "<table border=\"1\" class=\"dataframe\">\n",
       "  <thead>\n",
       "    <tr style=\"text-align: right;\">\n",
       "      <th></th>\n",
       "      <th>age</th>\n",
       "      <th>sex</th>\n",
       "      <th>cp</th>\n",
       "      <th>trestbps</th>\n",
       "      <th>chol</th>\n",
       "      <th>fbs</th>\n",
       "      <th>restecg</th>\n",
       "      <th>thalach</th>\n",
       "      <th>exang</th>\n",
       "      <th>oldpeak</th>\n",
       "      <th>slope</th>\n",
       "      <th>ca</th>\n",
       "      <th>thal</th>\n",
       "      <th>target</th>\n",
       "    </tr>\n",
       "  </thead>\n",
       "  <tbody>\n",
       "    <tr>\n",
       "      <th>count</th>\n",
       "      <td>303.000000</td>\n",
       "      <td>303.000000</td>\n",
       "      <td>303.000000</td>\n",
       "      <td>303.000000</td>\n",
       "      <td>303.000000</td>\n",
       "      <td>303.000000</td>\n",
       "      <td>303.000000</td>\n",
       "      <td>303.000000</td>\n",
       "      <td>303.000000</td>\n",
       "      <td>303.000000</td>\n",
       "      <td>303.000000</td>\n",
       "      <td>303.000000</td>\n",
       "      <td>303.000000</td>\n",
       "      <td>303.000000</td>\n",
       "    </tr>\n",
       "    <tr>\n",
       "      <th>mean</th>\n",
       "      <td>54.438944</td>\n",
       "      <td>0.679868</td>\n",
       "      <td>2.158416</td>\n",
       "      <td>131.689769</td>\n",
       "      <td>246.693069</td>\n",
       "      <td>0.148515</td>\n",
       "      <td>0.990099</td>\n",
       "      <td>149.607261</td>\n",
       "      <td>0.326733</td>\n",
       "      <td>1.039604</td>\n",
       "      <td>0.600660</td>\n",
       "      <td>0.663366</td>\n",
       "      <td>1.831683</td>\n",
       "      <td>0.458746</td>\n",
       "    </tr>\n",
       "    <tr>\n",
       "      <th>std</th>\n",
       "      <td>9.038662</td>\n",
       "      <td>0.467299</td>\n",
       "      <td>0.960126</td>\n",
       "      <td>17.599748</td>\n",
       "      <td>51.776918</td>\n",
       "      <td>0.356198</td>\n",
       "      <td>0.994971</td>\n",
       "      <td>22.875003</td>\n",
       "      <td>0.469794</td>\n",
       "      <td>1.161075</td>\n",
       "      <td>0.616226</td>\n",
       "      <td>0.934375</td>\n",
       "      <td>0.956705</td>\n",
       "      <td>0.499120</td>\n",
       "    </tr>\n",
       "    <tr>\n",
       "      <th>min</th>\n",
       "      <td>29.000000</td>\n",
       "      <td>0.000000</td>\n",
       "      <td>0.000000</td>\n",
       "      <td>94.000000</td>\n",
       "      <td>126.000000</td>\n",
       "      <td>0.000000</td>\n",
       "      <td>0.000000</td>\n",
       "      <td>71.000000</td>\n",
       "      <td>0.000000</td>\n",
       "      <td>0.000000</td>\n",
       "      <td>0.000000</td>\n",
       "      <td>0.000000</td>\n",
       "      <td>1.000000</td>\n",
       "      <td>0.000000</td>\n",
       "    </tr>\n",
       "    <tr>\n",
       "      <th>25%</th>\n",
       "      <td>48.000000</td>\n",
       "      <td>0.000000</td>\n",
       "      <td>2.000000</td>\n",
       "      <td>120.000000</td>\n",
       "      <td>211.000000</td>\n",
       "      <td>0.000000</td>\n",
       "      <td>0.000000</td>\n",
       "      <td>133.500000</td>\n",
       "      <td>0.000000</td>\n",
       "      <td>0.000000</td>\n",
       "      <td>0.000000</td>\n",
       "      <td>0.000000</td>\n",
       "      <td>1.000000</td>\n",
       "      <td>0.000000</td>\n",
       "    </tr>\n",
       "    <tr>\n",
       "      <th>50%</th>\n",
       "      <td>56.000000</td>\n",
       "      <td>1.000000</td>\n",
       "      <td>2.000000</td>\n",
       "      <td>130.000000</td>\n",
       "      <td>241.000000</td>\n",
       "      <td>0.000000</td>\n",
       "      <td>1.000000</td>\n",
       "      <td>153.000000</td>\n",
       "      <td>0.000000</td>\n",
       "      <td>0.800000</td>\n",
       "      <td>1.000000</td>\n",
       "      <td>0.000000</td>\n",
       "      <td>1.000000</td>\n",
       "      <td>0.000000</td>\n",
       "    </tr>\n",
       "    <tr>\n",
       "      <th>75%</th>\n",
       "      <td>61.000000</td>\n",
       "      <td>1.000000</td>\n",
       "      <td>3.000000</td>\n",
       "      <td>140.000000</td>\n",
       "      <td>275.000000</td>\n",
       "      <td>0.000000</td>\n",
       "      <td>2.000000</td>\n",
       "      <td>166.000000</td>\n",
       "      <td>1.000000</td>\n",
       "      <td>1.600000</td>\n",
       "      <td>1.000000</td>\n",
       "      <td>1.000000</td>\n",
       "      <td>3.000000</td>\n",
       "      <td>1.000000</td>\n",
       "    </tr>\n",
       "    <tr>\n",
       "      <th>max</th>\n",
       "      <td>77.000000</td>\n",
       "      <td>1.000000</td>\n",
       "      <td>3.000000</td>\n",
       "      <td>200.000000</td>\n",
       "      <td>564.000000</td>\n",
       "      <td>1.000000</td>\n",
       "      <td>2.000000</td>\n",
       "      <td>202.000000</td>\n",
       "      <td>1.000000</td>\n",
       "      <td>6.200000</td>\n",
       "      <td>2.000000</td>\n",
       "      <td>3.000000</td>\n",
       "      <td>3.000000</td>\n",
       "      <td>1.000000</td>\n",
       "    </tr>\n",
       "  </tbody>\n",
       "</table>\n",
       "</div>"
      ],
      "text/plain": [
       "              age         sex          cp    trestbps        chol         fbs  \\\n",
       "count  303.000000  303.000000  303.000000  303.000000  303.000000  303.000000   \n",
       "mean    54.438944    0.679868    2.158416  131.689769  246.693069    0.148515   \n",
       "std      9.038662    0.467299    0.960126   17.599748   51.776918    0.356198   \n",
       "min     29.000000    0.000000    0.000000   94.000000  126.000000    0.000000   \n",
       "25%     48.000000    0.000000    2.000000  120.000000  211.000000    0.000000   \n",
       "50%     56.000000    1.000000    2.000000  130.000000  241.000000    0.000000   \n",
       "75%     61.000000    1.000000    3.000000  140.000000  275.000000    0.000000   \n",
       "max     77.000000    1.000000    3.000000  200.000000  564.000000    1.000000   \n",
       "\n",
       "          restecg     thalach       exang     oldpeak       slope          ca  \\\n",
       "count  303.000000  303.000000  303.000000  303.000000  303.000000  303.000000   \n",
       "mean     0.990099  149.607261    0.326733    1.039604    0.600660    0.663366   \n",
       "std      0.994971   22.875003    0.469794    1.161075    0.616226    0.934375   \n",
       "min      0.000000   71.000000    0.000000    0.000000    0.000000    0.000000   \n",
       "25%      0.000000  133.500000    0.000000    0.000000    0.000000    0.000000   \n",
       "50%      1.000000  153.000000    0.000000    0.800000    1.000000    0.000000   \n",
       "75%      2.000000  166.000000    1.000000    1.600000    1.000000    1.000000   \n",
       "max      2.000000  202.000000    1.000000    6.200000    2.000000    3.000000   \n",
       "\n",
       "             thal      target  \n",
       "count  303.000000  303.000000  \n",
       "mean     1.831683    0.458746  \n",
       "std      0.956705    0.499120  \n",
       "min      1.000000    0.000000  \n",
       "25%      1.000000    0.000000  \n",
       "50%      1.000000    0.000000  \n",
       "75%      3.000000    1.000000  \n",
       "max      3.000000    1.000000  "
      ]
     },
     "metadata": {},
     "output_type": "display_data"
    }
   ],
   "source": [
    "print(\"\\n--- Categorical Features ---\")\n",
    "expected_values = {\n",
    "       'sex': [0, 1],\n",
    "       'cp': [0, 1, 2, 3],\n",
    "       'fbs': [0, 1],\n",
    "       'restecg': [0, 1, 2],\n",
    "       'exang': [0, 1],\n",
    "       'slope': [0, 1, 2],\n",
    "       'ca': [0, 1, 2, 3, 4],\n",
    "       'thal': [1, 2, 3],\n",
    "       'target': [0, 1]\n",
    "   }\n",
    "\n",
    "for feature, expected in expected_values.items():\n",
    "       if feature in df.columns:\n",
    "           unique_vals = sorted(df[feature].unique())\n",
    "           print(f\"{feature}: unique values in data = {unique_vals}, expected = {expected}\")\n",
    "           if set(unique_vals) != set(expected):\n",
    "               print(f\"  WARNING: Unexpected value(s) in {feature}!\\n\")\n",
    "       else:\n",
    "           print(f\"{feature}: NOT FOUND in DataFrame columns!\\n\")\n",
    "print('\\n--- Basic Statistics ---')\n",
    "display(df.describe(include='all'))"
   ]
  },
  {
   "cell_type": "markdown",
   "id": "744abd1f",
   "metadata": {},
   "source": [
    "Normalisation"
   ]
  },
  {
   "cell_type": "code",
   "execution_count": 5,
   "id": "f70d56d3",
   "metadata": {},
   "outputs": [
    {
     "data": {
      "text/html": [
       "<div>\n",
       "<style scoped>\n",
       "    .dataframe tbody tr th:only-of-type {\n",
       "        vertical-align: middle;\n",
       "    }\n",
       "\n",
       "    .dataframe tbody tr th {\n",
       "        vertical-align: top;\n",
       "    }\n",
       "\n",
       "    .dataframe thead th {\n",
       "        text-align: right;\n",
       "    }\n",
       "</style>\n",
       "<table border=\"1\" class=\"dataframe\">\n",
       "  <thead>\n",
       "    <tr style=\"text-align: right;\">\n",
       "      <th></th>\n",
       "      <th>age</th>\n",
       "      <th>sex</th>\n",
       "      <th>cp</th>\n",
       "      <th>trestbps</th>\n",
       "      <th>chol</th>\n",
       "      <th>fbs</th>\n",
       "      <th>restecg</th>\n",
       "      <th>thalach</th>\n",
       "      <th>exang</th>\n",
       "      <th>oldpeak</th>\n",
       "      <th>slope</th>\n",
       "      <th>ca</th>\n",
       "      <th>thal</th>\n",
       "      <th>target</th>\n",
       "    </tr>\n",
       "  </thead>\n",
       "  <tbody>\n",
       "    <tr>\n",
       "      <th>0</th>\n",
       "      <td>0.948726</td>\n",
       "      <td>1</td>\n",
       "      <td>0</td>\n",
       "      <td>0.757525</td>\n",
       "      <td>-0.264900</td>\n",
       "      <td>1</td>\n",
       "      <td>2</td>\n",
       "      <td>0.017197</td>\n",
       "      <td>0</td>\n",
       "      <td>1.087338</td>\n",
       "      <td>2</td>\n",
       "      <td>0</td>\n",
       "      <td>2</td>\n",
       "      <td>0</td>\n",
       "    </tr>\n",
       "    <tr>\n",
       "      <th>1</th>\n",
       "      <td>1.392002</td>\n",
       "      <td>1</td>\n",
       "      <td>3</td>\n",
       "      <td>1.611220</td>\n",
       "      <td>0.760415</td>\n",
       "      <td>0</td>\n",
       "      <td>2</td>\n",
       "      <td>-1.821905</td>\n",
       "      <td>1</td>\n",
       "      <td>0.397182</td>\n",
       "      <td>1</td>\n",
       "      <td>3</td>\n",
       "      <td>1</td>\n",
       "      <td>1</td>\n",
       "    </tr>\n",
       "    <tr>\n",
       "      <th>2</th>\n",
       "      <td>1.392002</td>\n",
       "      <td>1</td>\n",
       "      <td>3</td>\n",
       "      <td>-0.665300</td>\n",
       "      <td>-0.342283</td>\n",
       "      <td>0</td>\n",
       "      <td>2</td>\n",
       "      <td>-0.902354</td>\n",
       "      <td>1</td>\n",
       "      <td>1.346147</td>\n",
       "      <td>1</td>\n",
       "      <td>2</td>\n",
       "      <td>3</td>\n",
       "      <td>1</td>\n",
       "    </tr>\n",
       "    <tr>\n",
       "      <th>3</th>\n",
       "      <td>-1.932564</td>\n",
       "      <td>1</td>\n",
       "      <td>2</td>\n",
       "      <td>-0.096170</td>\n",
       "      <td>0.063974</td>\n",
       "      <td>0</td>\n",
       "      <td>0</td>\n",
       "      <td>1.637359</td>\n",
       "      <td>0</td>\n",
       "      <td>2.122573</td>\n",
       "      <td>2</td>\n",
       "      <td>0</td>\n",
       "      <td>1</td>\n",
       "      <td>0</td>\n",
       "    </tr>\n",
       "    <tr>\n",
       "      <th>4</th>\n",
       "      <td>-1.489288</td>\n",
       "      <td>0</td>\n",
       "      <td>1</td>\n",
       "      <td>-0.096170</td>\n",
       "      <td>-0.825922</td>\n",
       "      <td>0</td>\n",
       "      <td>2</td>\n",
       "      <td>0.980537</td>\n",
       "      <td>0</td>\n",
       "      <td>0.310912</td>\n",
       "      <td>0</td>\n",
       "      <td>0</td>\n",
       "      <td>1</td>\n",
       "      <td>0</td>\n",
       "    </tr>\n",
       "  </tbody>\n",
       "</table>\n",
       "</div>"
      ],
      "text/plain": [
       "        age  sex  cp  trestbps      chol  fbs  restecg   thalach  exang  \\\n",
       "0  0.948726    1   0  0.757525 -0.264900    1        2  0.017197      0   \n",
       "1  1.392002    1   3  1.611220  0.760415    0        2 -1.821905      1   \n",
       "2  1.392002    1   3 -0.665300 -0.342283    0        2 -0.902354      1   \n",
       "3 -1.932564    1   2 -0.096170  0.063974    0        0  1.637359      0   \n",
       "4 -1.489288    0   1 -0.096170 -0.825922    0        2  0.980537      0   \n",
       "\n",
       "    oldpeak  slope  ca  thal  target  \n",
       "0  1.087338      2   0     2       0  \n",
       "1  0.397182      1   3     1       1  \n",
       "2  1.346147      1   2     3       1  \n",
       "3  2.122573      2   0     1       0  \n",
       "4  0.310912      0   0     1       0  "
      ]
     },
     "execution_count": 5,
     "metadata": {},
     "output_type": "execute_result"
    }
   ],
   "source": [
    "features_to_scale = ['age', 'trestbps', 'chol', 'thalach', 'oldpeak']\n",
    "scaler = StandardScaler()\n",
    "df[features_to_scale] = scaler.fit_transform(df[features_to_scale])\n",
    "df.head()"
   ]
  },
  {
   "cell_type": "markdown",
   "id": "26086163",
   "metadata": {},
   "source": [
    "Separate features and target and Data split"
   ]
  },
  {
   "cell_type": "code",
   "execution_count": 7,
   "id": "97be381d",
   "metadata": {},
   "outputs": [
    {
     "name": "stdout",
     "output_type": "stream",
     "text": [
      "Training set size: 242 samples\n",
      "Test set size: 61 samples\n"
     ]
    }
   ],
   "source": [
    "X = df.drop('target', axis=1)\n",
    "y = df['target']\n",
    "X_train, X_test, y_train, y_test = train_test_split(\n",
    "    X, y, test_size=0.2, random_state=42, stratify=y\n",
    ")\n",
    "print(f\"Training set size: {X_train.shape[0]} samples\")\n",
    "print(f\"Test set size: {X_test.shape[0]} samples\")"
   ]
  },
  {
   "cell_type": "markdown",
   "id": "b74b55ff",
   "metadata": {},
   "source": [
    "Logistic Regression with Stratified K-Fold Cross-Validation "
   ]
  },
  {
   "cell_type": "code",
   "execution_count": 8,
   "id": "7e16bc1b",
   "metadata": {},
   "outputs": [
    {
     "name": "stdout",
     "output_type": "stream",
     "text": [
      "F1-scores for each fold: [0.85106383 0.76923077 0.7804878  0.7826087  0.8372093 ]\n",
      "Mean F1-score: 0.804\n"
     ]
    }
   ],
   "source": [
    "skf = StratifiedKFold(n_splits=5, shuffle=True, random_state=42)\n",
    "logreg = LogisticRegression(class_weight='balanced', max_iter=1000, random_state=42)\n",
    "f1 = make_scorer(f1_score)\n",
    "scores = cross_val_score(logreg, X_train, y_train, cv=skf, scoring=f1)\n",
    "print(f\"F1-scores for each fold: {scores}\")\n",
    "print(f\"Mean F1-score: {scores.mean():.3f}\")"
   ]
  },
  {
   "cell_type": "markdown",
   "id": "b06771f2",
   "metadata": {},
   "source": [
    "Logistic Regression Hyperparameter"
   ]
  },
  {
   "cell_type": "code",
   "execution_count": 9,
   "id": "923a0970",
   "metadata": {},
   "outputs": [
    {
     "name": "stdout",
     "output_type": "stream",
     "text": [
      "Best parameters: {'C': 10, 'class_weight': 'balanced', 'penalty': 'l2', 'solver': 'lbfgs'}\n",
      "Best cross-validated F1-score: 0.805\n"
     ]
    }
   ],
   "source": [
    "param_grid = {\n",
    "    'C': [0.01, 0.1, 1, 10, 100],  # Regularization strength\n",
    "    'penalty': ['l2'],              # L2 regularization (default and recommended)\n",
    "    'solver': ['lbfgs'],            # 'lbfgs' works well for small to medium datasets\n",
    "    'class_weight': ['balanced']\n",
    "}\n",
    "skf = StratifiedKFold(n_splits=5, shuffle=True, random_state=42)\n",
    "logreg = LogisticRegression(max_iter=1000, random_state=42)\n",
    "grid_search = GridSearchCV(\n",
    "    estimator=logreg,\n",
    "    param_grid=param_grid,\n",
    "    scoring='f1',\n",
    "    cv=skf,\n",
    "    n_jobs=-1\n",
    ")\n",
    "grid_search.fit(X_train, y_train)\n",
    "print(\"Best parameters:\", grid_search.best_params_)\n",
    "print(\"Best cross-validated F1-score: {:.3f}\".format(grid_search.best_score_))"
   ]
  },
  {
   "cell_type": "markdown",
   "id": "8eeef964",
   "metadata": {},
   "source": [
    "Logistic Regression evaluation on Test Data"
   ]
  },
  {
   "cell_type": "code",
   "execution_count": 10,
   "id": "f4fe8459",
   "metadata": {},
   "outputs": [
    {
     "name": "stdout",
     "output_type": "stream",
     "text": [
      "Test F1-score: 0.867\n",
      "Test Accuracy: 0.869\n",
      "\n",
      "Classification Report:\n",
      "               precision    recall  f1-score   support\n",
      "\n",
      "           0       0.93      0.82      0.87        33\n",
      "           1       0.81      0.93      0.87        28\n",
      "\n",
      "    accuracy                           0.87        61\n",
      "   macro avg       0.87      0.87      0.87        61\n",
      "weighted avg       0.88      0.87      0.87        61\n",
      "\n"
     ]
    },
    {
     "data": {
      "image/png": "[encoded data removed]",
      "text/plain": [
       "<Figure size 640x480 with 2 Axes>"
      ]
     },
     "metadata": {},
     "output_type": "display_data"
    }
   ],
   "source": [
    "best_logreg = grid_search.best_estimator_\n",
    "y_pred = best_logreg.predict(X_test)\n",
    "f1 = f1_score(y_test, y_pred)\n",
    "accuracy = accuracy_score(y_test, y_pred)\n",
    "cm = confusion_matrix(y_test, y_pred)\n",
    "print(f\"Test F1-score: {f1:.3f}\")\n",
    "print(f\"Test Accuracy: {accuracy:.3f}\")\n",
    "print(\"\\nClassification Report:\\n\", classification_report(y_test, y_pred))\n",
    "disp = ConfusionMatrixDisplay(confusion_matrix=cm, display_labels=best_logreg.classes_)\n",
    "disp.plot(cmap=plt.cm.Blues)\n",
    "plt.title(\"Confusion Matrix - Logistic Regression (Test Set)\")\n",
    "plt.show()"
   ]
  },
  {
   "cell_type": "code",
   "execution_count": 11,
   "id": "3d16a7c0",
   "metadata": {},
   "outputs": [
    {
     "name": "stdout",
     "output_type": "stream",
     "text": [
      "F1-scores for each fold: [0.85106383 0.76923077 0.7804878  0.7826087  0.8372093 ]\n",
      "Mean F1-score: 0.804\n"
     ]
    }
   ],
   "source": [
    "skf = StratifiedKFold(n_splits=5, shuffle=True, random_state=42)\n",
    "logreg = LogisticRegression(class_weight='balanced', max_iter=1000, random_state=42)\n",
    "f1 = make_scorer(f1_score)\n",
    "scores = cross_val_score(logreg, X_train, y_train, cv=skf, scoring=f1)\n",
    "print(f\"F1-scores for each fold: {scores}\")\n",
    "print(f\"Mean F1-score: {scores.mean():.3f}\")"
   ]
  },
  {
   "cell_type": "markdown",
   "id": "e31ef7ac",
   "metadata": {},
   "source": [
    "Random Forest with Stratified K-Fold Cross-Validation"
   ]
  },
  {
   "cell_type": "code",
   "execution_count": 12,
   "id": "aac88c1b",
   "metadata": {},
   "outputs": [
    {
     "name": "stdout",
     "output_type": "stream",
     "text": [
      "F1-scores for each fold: [0.82352941 0.76923077 0.73170732 0.81818182 0.73170732]\n",
      "Mean F1-score: 0.775\n"
     ]
    }
   ],
   "source": [
    "skf = StratifiedKFold(n_splits=5, shuffle=True, random_state=42)\n",
    "rf = RandomForestClassifier(class_weight='balanced', n_estimators=100, random_state=42)\n",
    "f1 = make_scorer(f1_score)\n",
    "rf_scores = cross_val_score(rf, X_train, y_train, cv=skf, scoring=f1)\n",
    "print(f\"F1-scores for each fold: {rf_scores}\")\n",
    "print(f\"Mean F1-score: {rf_scores.mean():.3f}\")"
   ]
  },
  {
   "cell_type": "markdown",
   "id": "387b1c13",
   "metadata": {},
   "source": [
    "Random Forest Hyperparameters"
   ]
  },
  {
   "cell_type": "code",
   "execution_count": 13,
   "id": "0a8c35bb",
   "metadata": {},
   "outputs": [
    {
     "name": "stdout",
     "output_type": "stream",
     "text": [
      "Best parameters for Random Forest: {'class_weight': 'balanced', 'max_depth': 5, 'min_samples_leaf': 1, 'min_samples_split': 5, 'n_estimators': 200}\n",
      "Best cross-validated F1-score for Random Forest: 0.798\n"
     ]
    }
   ],
   "source": [
    "param_grid_rf = {\n",
    "    'n_estimators': [100, 200, 300],         \n",
    "    'max_depth': [None, 5, 10, 20],          \n",
    "    'min_samples_split': [2, 5, 10],         \n",
    "    'min_samples_leaf': [1, 2, 4],           \n",
    "    'class_weight': ['balanced']             \n",
    "}\n",
    "skf = StratifiedKFold(n_splits=5, shuffle=True, random_state=42)\n",
    "rf = RandomForestClassifier(random_state=42)\n",
    "grid_search_rf = GridSearchCV(\n",
    "    estimator=rf,\n",
    "    param_grid=param_grid_rf,\n",
    "    scoring='f1',\n",
    "    cv=skf,\n",
    "    n_jobs=-1\n",
    ")\n",
    "grid_search_rf.fit(X_train, y_train)\n",
    "print(\"Best parameters for Random Forest:\", grid_search_rf.best_params_)\n",
    "print(\"Best cross-validated F1-score for Random Forest: {:.3f}\".format(grid_search_rf.best_score_))"
   ]
  },
  {
   "cell_type": "markdown",
   "id": "39b74bea",
   "metadata": {},
   "source": [
    "Random Forest evealuation on Test Data"
   ]
  },
  {
   "cell_type": "code",
   "execution_count": 14,
   "id": "c96a7c3b",
   "metadata": {},
   "outputs": [
    {
     "name": "stdout",
     "output_type": "stream",
     "text": [
      "Test F1-score (Random Forest): 0.881\n",
      "Test Accuracy (Random Forest): 0.885\n",
      "\n",
      "Classification Report (Random Forest):\n",
      "               precision    recall  f1-score   support\n",
      "\n",
      "           0       0.93      0.85      0.89        33\n",
      "           1       0.84      0.93      0.88        28\n",
      "\n",
      "    accuracy                           0.89        61\n",
      "   macro avg       0.89      0.89      0.89        61\n",
      "weighted avg       0.89      0.89      0.89        61\n",
      "\n"
     ]
    },
    {
     "data": {
      "image/png": "[encoded data removed]",
      "text/plain": [
       "<Figure size 640x480 with 2 Axes>"
      ]
     },
     "metadata": {},
     "output_type": "display_data"
    }
   ],
   "source": [
    "best_rf = grid_search_rf.best_estimator_\n",
    "y_pred_rf = best_rf.predict(X_test)\n",
    "f1_rf = f1_score(y_test, y_pred_rf)\n",
    "accuracy_rf = accuracy_score(y_test, y_pred_rf)\n",
    "cm_rf = confusion_matrix(y_test, y_pred_rf)\n",
    "print(f\"Test F1-score (Random Forest): {f1_rf:.3f}\")\n",
    "print(f\"Test Accuracy (Random Forest): {accuracy_rf:.3f}\")\n",
    "print(\"\\nClassification Report (Random Forest):\\n\", classification_report(y_test, y_pred_rf))\n",
    "disp = ConfusionMatrixDisplay(confusion_matrix=cm_rf, display_labels=best_rf.classes_)\n",
    "disp.plot(cmap=plt.cm.Blues)\n",
    "plt.title(\"Confusion Matrix - Random Forest (Test Set)\")\n",
    "plt.show()"
   ]
  },
  {
   "cell_type": "markdown",
   "id": "ee9d5c65",
   "metadata": {},
   "source": [
    "SVM with Stratified K-fold Cross-Validation"
   ]
  },
  {
   "cell_type": "code",
   "execution_count": 15,
   "id": "c1233281",
   "metadata": {},
   "outputs": [
    {
     "name": "stdout",
     "output_type": "stream",
     "text": [
      "F1-scores for each fold: [0.89361702 0.73684211 0.8        0.8        0.82608696]\n",
      "Mean F1-score: 0.811\n"
     ]
    }
   ],
   "source": [
    "skf = StratifiedKFold(n_splits=5, shuffle=True, random_state=42)\n",
    "svm = SVC(class_weight='balanced', kernel='rbf', random_state=42)\n",
    "f1 = make_scorer(f1_score)\n",
    "svm_scores = cross_val_score(svm, X_train, y_train, cv=skf, scoring=f1)\n",
    "print(f\"F1-scores for each fold: {svm_scores}\")\n",
    "print(f\"Mean F1-score: {svm_scores.mean():.3f}\")"
   ]
  },
  {
   "cell_type": "markdown",
   "id": "6ecd86ba",
   "metadata": {},
   "source": [
    "SVM Hyperparameters"
   ]
  },
  {
   "cell_type": "code",
   "execution_count": 16,
   "id": "ceb1d8c1",
   "metadata": {},
   "outputs": [
    {
     "name": "stdout",
     "output_type": "stream",
     "text": [
      "Best parameters for SVM: {'C': 1, 'class_weight': 'balanced', 'gamma': 'scale', 'kernel': 'rbf'}\n",
      "Best cross-validated F1-score for SVM: 0.811\n"
     ]
    }
   ],
   "source": [
    "param_grid = {\n",
    "    'C': [0.1, 1, 10, 100],\n",
    "    'kernel': ['linear', 'rbf'],\n",
    "    'gamma': ['scale', 'auto'],  \n",
    "    'class_weight': ['balanced']\n",
    "}\n",
    "skf = StratifiedKFold(n_splits=5, shuffle=True, random_state=42)\n",
    "svm = SVC(random_state=42)\n",
    "grid_search_svm = GridSearchCV(\n",
    "    estimator=svm,\n",
    "    param_grid=param_grid,\n",
    "    scoring='f1',\n",
    "    cv=skf,\n",
    "    n_jobs=-1\n",
    ")\n",
    "grid_search_svm.fit(X_train, y_train)\n",
    "print(\"Best parameters for SVM:\", grid_search_svm.best_params_)\n",
    "print(\"Best cross-validated F1-score for SVM: {:.3f}\".format(grid_search_svm.best_score_))"
   ]
  },
  {
   "cell_type": "markdown",
   "id": "b6652c79",
   "metadata": {},
   "source": [
    "SVM with Test Data"
   ]
  },
  {
   "cell_type": "code",
   "execution_count": 17,
   "id": "11587a14",
   "metadata": {},
   "outputs": [
    {
     "name": "stdout",
     "output_type": "stream",
     "text": [
      "Test F1-score (SVM): 0.833\n",
      "Test Accuracy (SVM): 0.836\n",
      "\n",
      "Classification Report (SVM):\n",
      "               precision    recall  f1-score   support\n",
      "\n",
      "           0       0.90      0.79      0.84        33\n",
      "           1       0.78      0.89      0.83        28\n",
      "\n",
      "    accuracy                           0.84        61\n",
      "   macro avg       0.84      0.84      0.84        61\n",
      "weighted avg       0.84      0.84      0.84        61\n",
      "\n"
     ]
    },
    {
     "data": {
      "image/png": "[encoded data removed]",
      "text/plain": [
       "<Figure size 640x480 with 2 Axes>"
      ]
     },
     "metadata": {},
     "output_type": "display_data"
    }
   ],
   "source": [
    "best_svm = grid_search_svm.best_estimator_\n",
    "y_pred_svm = best_svm.predict(X_test)\n",
    "f1_svm = f1_score(y_test, y_pred_svm)\n",
    "accuracy_svm = accuracy_score(y_test, y_pred_svm)\n",
    "cm_svm = confusion_matrix(y_test, y_pred_svm)\n",
    "\n",
    "print(f\"Test F1-score (SVM): {f1_svm:.3f}\")\n",
    "print(f\"Test Accuracy (SVM): {accuracy_svm:.3f}\")\n",
    "print(\"\\nClassification Report (SVM):\\n\", classification_report(y_test, y_pred_svm))\n",
    "\n",
    "disp = ConfusionMatrixDisplay(confusion_matrix=cm_svm, display_labels=best_svm.classes_)\n",
    "disp.plot(cmap=plt.cm.Blues)\n",
    "plt.title(\"Confusion Matrix - SVM (Test Set)\")\n",
    "plt.show()"
   ]
  },
  {
   "cell_type": "markdown",
   "id": "3e8be781",
   "metadata": {},
   "source": [
    "Explanation of choices:\n",
    "\n",
    "I experimented with several supervised classification models: Logistic Regression, Random Forest, and Support Vector Machine (SVM).\n",
    "\n",
    "I tried models with different characteristics: \n",
    "\n",
    "Logistic Regression is a strong baseline for binary classification and provides interpretable coefficients.\n",
    "Random Forest is robust to outliers, can capture non-linear relationships, and is less sensitive to feature scaling.\n",
    "SVM is effective for high-dimensional data and can model complex boundaries with the right kernel.\n",
    "\n",
    "The choise of paprameters:\n",
    "\n",
    "For Logistic Regression, I tuned the regularization strength C over a wide range (0.01 to 100) to balance underfitting and overfitting.\n",
    "\n",
    "For Random Forest, I tuned n_estimators (number of trees), max_depth, min_samples_split, and min_samples_leaf to control model complexity and prevent overfitting.\n",
    "\n",
    "For SVM, I tuned C (regularization), kernel (linear and RBF), and gamma (for RBF) to find the best margin and boundary for the data.\n",
    "\n",
    "For all models I used class_weight='balanced' to address class imbalance. \n",
    "\n",
    "\n",
    "The best parameters were selected based on cross-validated F1-score.\n",
    "\n",
    "\n"
   ]
  },
  {
   "cell_type": "markdown",
   "id": "1026f40e",
   "metadata": {},
   "source": [
    "ROC curves"
   ]
  },
  {
   "cell_type": "code",
   "execution_count": 18,
   "id": "4626b7a2",
   "metadata": {},
   "outputs": [
    {
     "data": {
      "image/png": "[encoded data removed]",
      "text/plain": [
       "<Figure size 800x600 with 1 Axes>"
      ]
     },
     "metadata": {},
     "output_type": "display_data"
    }
   ],
   "source": [
    "plt.figure(figsize=(8, 6))\n",
    "\n",
    "y_score_logreg = best_logreg.predict_proba(X_test)[:, 1]\n",
    "fpr_logreg, tpr_logreg, _ = roc_curve(y_test, y_score_logreg)\n",
    "roc_auc_logreg = auc(fpr_logreg, tpr_logreg)\n",
    "plt.plot(fpr_logreg, tpr_logreg, label=f'Logistic Regression (AUC = {roc_auc_logreg:.2f})')\n",
    "\n",
    "y_score_rf = best_rf.predict_proba(X_test)[:, 1]\n",
    "fpr_rf, tpr_rf, _ = roc_curve(y_test, y_score_rf)\n",
    "roc_auc_rf = auc(fpr_rf, tpr_rf)\n",
    "plt.plot(fpr_rf, tpr_rf, label=f'Random Forest (AUC = {roc_auc_rf:.2f})')\n",
    "\n",
    "if hasattr(best_svm, \"predict_proba\"):\n",
    "    y_score_svm = best_svm.predict_proba(X_test)[:, 1]\n",
    "else:\n",
    "    y_score_svm = best_svm.decision_function(X_test)\n",
    "fpr_svm, tpr_svm, _ = roc_curve(y_test, y_score_svm)\n",
    "roc_auc_svm = auc(fpr_svm, tpr_svm)\n",
    "plt.plot(fpr_svm, tpr_svm, label=f'SVM (AUC = {roc_auc_svm:.2f})')\n",
    "\n",
    "\n",
    "plt.plot([0, 1], [0, 1], 'k--', label='Chance')\n",
    "plt.xlabel('False Positive Rate')\n",
    "plt.ylabel('True Positive Rate')\n",
    "plt.title('ROC Curves for Classifiers')\n",
    "plt.legend(loc='lower right')\n",
    "plt.grid(True)\n",
    "plt.show()"
   ]
  },
  {
   "cell_type": "markdown",
   "id": "46a5b6ca",
   "metadata": {},
   "source": [
    "Logistic Regression with PCA"
   ]
  },
  {
   "cell_type": "code",
   "execution_count": 19,
   "id": "ccb1789e",
   "metadata": {},
   "outputs": [
    {
     "name": "stdout",
     "output_type": "stream",
     "text": [
      "Original number of features: 13\n",
      "Reduced number of PCA components: 10\n"
     ]
    }
   ],
   "source": [
    "pca = PCA(n_components=0.95, random_state=42)\n",
    "X_train_pca = pca.fit_transform(X_train)\n",
    "X_test_pca = pca.transform(X_test)\n",
    "\n",
    "print(f\"Original number of features: {X_train.shape[1]}\")\n",
    "print(f\"Reduced number of PCA components: {X_train_pca.shape[1]}\")"
   ]
  },
  {
   "cell_type": "code",
   "execution_count": 20,
   "id": "0a4ea915",
   "metadata": {},
   "outputs": [
    {
     "name": "stdout",
     "output_type": "stream",
     "text": [
      "Test F1-score (LogReg + PCA): 0.847\n",
      "Test Accuracy (LogReg + PCA): 0.852\n",
      "\n",
      "Classification Report (LogReg + PCA):\n",
      "               precision    recall  f1-score   support\n",
      "\n",
      "           0       0.90      0.82      0.86        33\n",
      "           1       0.81      0.89      0.85        28\n",
      "\n",
      "    accuracy                           0.85        61\n",
      "   macro avg       0.85      0.86      0.85        61\n",
      "weighted avg       0.86      0.85      0.85        61\n",
      "\n"
     ]
    },
    {
     "data": {
      "image/png": "[encoded data removed]",
      "text/plain": [
       "<Figure size 640x480 with 2 Axes>"
      ]
     },
     "metadata": {},
     "output_type": "display_data"
    }
   ],
   "source": [
    "logreg_pca = LogisticRegression(class_weight='balanced', max_iter=1000, random_state=42)\n",
    "logreg_pca.fit(X_train_pca, y_train)\n",
    "y_pred_pca = logreg_pca.predict(X_test_pca)\n",
    "f1_pca = f1_score(y_test, y_pred_pca)\n",
    "accuracy_pca = accuracy_score(y_test, y_pred_pca)\n",
    "cm_pca = confusion_matrix(y_test, y_pred_pca)\n",
    "print(f\"Test F1-score (LogReg + PCA): {f1_pca:.3f}\")\n",
    "print(f\"Test Accuracy (LogReg + PCA): {accuracy_pca:.3f}\")\n",
    "print(\"\\nClassification Report (LogReg + PCA):\\n\", classification_report(y_test, y_pred_pca))\n",
    "disp = ConfusionMatrixDisplay(confusion_matrix=cm_pca, display_labels=logreg_pca.classes_)\n",
    "disp.plot(cmap=plt.cm.Blues)\n",
    "plt.title(\"Confusion Matrix - Logistic Regression with PCA (Test Set)\")\n",
    "plt.show()"
   ]
  },
  {
   "cell_type": "markdown",
   "id": "9de4b458",
   "metadata": {},
   "source": [
    "TRP and FRP vs. Threshold (Logistic Regression)"
   ]
  },
  {
   "cell_type": "code",
   "execution_count": 21,
   "id": "aa1af5f8",
   "metadata": {},
   "outputs": [
    {
     "data": {
      "image/png": "[encoded data removed]",
      "text/plain": [
       "<Figure size 1000x600 with 1 Axes>"
      ]
     },
     "metadata": {},
     "output_type": "display_data"
    }
   ],
   "source": [
    "y_scores = best_logreg.predict_proba(X_test)[:, 1]\n",
    "\n",
    "fpr, tpr, thresholds = roc_curve(y_test, y_scores)\n",
    "\n",
    "plt.figure(figsize=(10, 6))\n",
    "\n",
    "plt.plot(thresholds, tpr, label='True Positive Rate (Recall)')\n",
    "plt.plot(thresholds, fpr, label='False Positive Rate')\n",
    "plt.xlabel('Threshold')\n",
    "plt.ylabel('Rate')\n",
    "plt.title('TPR and FPR vs. Threshold (Logistic Regression)')\n",
    "plt.legend()\n",
    "plt.grid(True)\n",
    "plt.show()"
   ]
  }
 ],
 "metadata": {
  "kernelspec": {
   "display_name": "venv",
   "language": "python",
   "name": "python3"
  },
  "language_info": {
   "codemirror_mode": {
    "name": "ipython",
    "version": 3
   },
   "file_extension": ".py",
   "mimetype": "text/x-python",
   "name": "python",
   "nbconvert_exporter": "python",
   "pygments_lexer": "ipython3",
   "version": "3.12.8"
  }
 },
 "nbformat": 4,
 "nbformat_minor": 5
}
