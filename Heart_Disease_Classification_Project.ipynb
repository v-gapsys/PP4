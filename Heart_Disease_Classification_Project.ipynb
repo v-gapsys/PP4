{
 "cells": [
  {
   "cell_type": "markdown",
   "id": "8b75b73a",
   "metadata": {},
   "source": [
    "Imports"
   ]
  },
  {
   "cell_type": "code",
   "execution_count": 1,
   "id": "cb677f16",
   "metadata": {},
   "outputs": [],
   "source": [
    "import pandas as pd\n",
    "import matplotlib.pyplot as plt\n",
    "from sklearn.model_selection import train_test_split, GridSearchCV, StratifiedKFold\n",
    "from sklearn.pipeline import Pipeline\n",
    "from sklearn.compose import ColumnTransformer\n",
    "from sklearn.preprocessing import StandardScaler, OneHotEncoder\n",
    "from sklearn.linear_model import LogisticRegression\n",
    "from sklearn.ensemble import RandomForestClassifier\n",
    "from sklearn.svm import SVC\n",
    "from sklearn.decomposition import PCA\n",
    "from sklearn.metrics import (\n",
    "    f1_score, accuracy_score, confusion_matrix, classification_report,\n",
    "    ConfusionMatrixDisplay, roc_curve, auc\n",
    ")\n"
   ]
  },
  {
   "cell_type": "markdown",
   "id": "f423a88a",
   "metadata": {},
   "source": [
    "Data loading"
   ]
  },
  {
   "cell_type": "code",
   "execution_count": 2,
   "id": "e96a94ca",
   "metadata": {},
   "outputs": [
    {
     "data": {
      "text/html": [
       "<div>\n",
       "<style scoped>\n",
       "    .dataframe tbody tr th:only-of-type {\n",
       "        vertical-align: middle;\n",
       "    }\n",
       "\n",
       "    .dataframe tbody tr th {\n",
       "        vertical-align: top;\n",
       "    }\n",
       "\n",
       "    .dataframe thead th {\n",
       "        text-align: right;\n",
       "    }\n",
       "</style>\n",
       "<table border=\"1\" class=\"dataframe\">\n",
       "  <thead>\n",
       "    <tr style=\"text-align: right;\">\n",
       "      <th></th>\n",
       "      <th>age</th>\n",
       "      <th>sex</th>\n",
       "      <th>cp</th>\n",
       "      <th>trestbps</th>\n",
       "      <th>chol</th>\n",
       "      <th>fbs</th>\n",
       "      <th>restecg</th>\n",
       "      <th>thalach</th>\n",
       "      <th>exang</th>\n",
       "      <th>oldpeak</th>\n",
       "      <th>slope</th>\n",
       "      <th>ca</th>\n",
       "      <th>thal</th>\n",
       "      <th>target</th>\n",
       "    </tr>\n",
       "  </thead>\n",
       "  <tbody>\n",
       "    <tr>\n",
       "      <th>0</th>\n",
       "      <td>63</td>\n",
       "      <td>1</td>\n",
       "      <td>0</td>\n",
       "      <td>145</td>\n",
       "      <td>233</td>\n",
       "      <td>1</td>\n",
       "      <td>2</td>\n",
       "      <td>150</td>\n",
       "      <td>0</td>\n",
       "      <td>2.3</td>\n",
       "      <td>2</td>\n",
       "      <td>0</td>\n",
       "      <td>2</td>\n",
       "      <td>0</td>\n",
       "    </tr>\n",
       "    <tr>\n",
       "      <th>1</th>\n",
       "      <td>67</td>\n",
       "      <td>1</td>\n",
       "      <td>3</td>\n",
       "      <td>160</td>\n",
       "      <td>286</td>\n",
       "      <td>0</td>\n",
       "      <td>2</td>\n",
       "      <td>108</td>\n",
       "      <td>1</td>\n",
       "      <td>1.5</td>\n",
       "      <td>1</td>\n",
       "      <td>3</td>\n",
       "      <td>1</td>\n",
       "      <td>1</td>\n",
       "    </tr>\n",
       "    <tr>\n",
       "      <th>2</th>\n",
       "      <td>67</td>\n",
       "      <td>1</td>\n",
       "      <td>3</td>\n",
       "      <td>120</td>\n",
       "      <td>229</td>\n",
       "      <td>0</td>\n",
       "      <td>2</td>\n",
       "      <td>129</td>\n",
       "      <td>1</td>\n",
       "      <td>2.6</td>\n",
       "      <td>1</td>\n",
       "      <td>2</td>\n",
       "      <td>3</td>\n",
       "      <td>1</td>\n",
       "    </tr>\n",
       "    <tr>\n",
       "      <th>3</th>\n",
       "      <td>37</td>\n",
       "      <td>1</td>\n",
       "      <td>2</td>\n",
       "      <td>130</td>\n",
       "      <td>250</td>\n",
       "      <td>0</td>\n",
       "      <td>0</td>\n",
       "      <td>187</td>\n",
       "      <td>0</td>\n",
       "      <td>3.5</td>\n",
       "      <td>2</td>\n",
       "      <td>0</td>\n",
       "      <td>1</td>\n",
       "      <td>0</td>\n",
       "    </tr>\n",
       "    <tr>\n",
       "      <th>4</th>\n",
       "      <td>41</td>\n",
       "      <td>0</td>\n",
       "      <td>1</td>\n",
       "      <td>130</td>\n",
       "      <td>204</td>\n",
       "      <td>0</td>\n",
       "      <td>2</td>\n",
       "      <td>172</td>\n",
       "      <td>0</td>\n",
       "      <td>1.4</td>\n",
       "      <td>0</td>\n",
       "      <td>0</td>\n",
       "      <td>1</td>\n",
       "      <td>0</td>\n",
       "    </tr>\n",
       "  </tbody>\n",
       "</table>\n",
       "</div>"
      ],
      "text/plain": [
       "   age  sex  cp  trestbps  chol  fbs  restecg  thalach  exang  oldpeak  slope  \\\n",
       "0   63    1   0       145   233    1        2      150      0      2.3      2   \n",
       "1   67    1   3       160   286    0        2      108      1      1.5      1   \n",
       "2   67    1   3       120   229    0        2      129      1      2.6      1   \n",
       "3   37    1   2       130   250    0        0      187      0      3.5      2   \n",
       "4   41    0   1       130   204    0        2      172      0      1.4      0   \n",
       "\n",
       "   ca  thal  target  \n",
       "0   0     2       0  \n",
       "1   3     1       1  \n",
       "2   2     3       1  \n",
       "3   0     1       0  \n",
       "4   0     1       0  "
      ]
     },
     "execution_count": 2,
     "metadata": {},
     "output_type": "execute_result"
    }
   ],
   "source": [
    "df = pd.read_csv('Heart_disease_cleveland_new.csv', encoding='utf-8-sig')\n",
    "df.head()"
   ]
  },
  {
   "cell_type": "markdown",
   "id": "80ec7160",
   "metadata": {},
   "source": [
    "Data exploration\n"
   ]
  },
  {
   "cell_type": "code",
   "execution_count": 3,
   "id": "af6c1c22",
   "metadata": {},
   "outputs": [
    {
     "name": "stdout",
     "output_type": "stream",
     "text": [
      "--- Data Info ---\n",
      "<class 'pandas.core.frame.DataFrame'>\n",
      "RangeIndex: 303 entries, 0 to 302\n",
      "Data columns (total 14 columns):\n",
      " #   Column    Non-Null Count  Dtype  \n",
      "---  ------    --------------  -----  \n",
      " 0   age       303 non-null    int64  \n",
      " 1   sex       303 non-null    int64  \n",
      " 2   cp        303 non-null    int64  \n",
      " 3   trestbps  303 non-null    int64  \n",
      " 4   chol      303 non-null    int64  \n",
      " 5   fbs       303 non-null    int64  \n",
      " 6   restecg   303 non-null    int64  \n",
      " 7   thalach   303 non-null    int64  \n",
      " 8   exang     303 non-null    int64  \n",
      " 9   oldpeak   303 non-null    float64\n",
      " 10  slope     303 non-null    int64  \n",
      " 11  ca        303 non-null    int64  \n",
      " 12  thal      303 non-null    int64  \n",
      " 13  target    303 non-null    int64  \n",
      "dtypes: float64(1), int64(13)\n",
      "memory usage: 33.3 KB\n",
      "\n",
      "--- Missing Values ---\n",
      "age         0\n",
      "sex         0\n",
      "cp          0\n",
      "trestbps    0\n",
      "chol        0\n",
      "fbs         0\n",
      "restecg     0\n",
      "thalach     0\n",
      "exang       0\n",
      "oldpeak     0\n",
      "slope       0\n",
      "ca          0\n",
      "thal        0\n",
      "target      0\n",
      "dtype: int64\n",
      "--- Duplicate Rows ---\n",
      "0\n"
     ]
    }
   ],
   "source": [
    "print('--- Data Info ---')\n",
    "df.info()\n",
    "print('\\n--- Missing Values ---')\n",
    "print(df.isnull().sum())\n",
    "print(\"--- Duplicate Rows ---\")\n",
    "print(df.duplicated().sum())\n"
   ]
  },
  {
   "cell_type": "code",
   "execution_count": 4,
   "id": "23384205",
   "metadata": {},
   "outputs": [
    {
     "name": "stdout",
     "output_type": "stream",
     "text": [
      "\n",
      "--- Categorical Features ---\n",
      "sex: unique values in data = [np.int64(0), np.int64(1)], expected = [0, 1]\n",
      "cp: unique values in data = [np.int64(0), np.int64(1), np.int64(2), np.int64(3)], expected = [0, 1, 2, 3]\n",
      "fbs: unique values in data = [np.int64(0), np.int64(1)], expected = [0, 1]\n",
      "restecg: unique values in data = [np.int64(0), np.int64(1), np.int64(2)], expected = [0, 1, 2]\n",
      "exang: unique values in data = [np.int64(0), np.int64(1)], expected = [0, 1]\n",
      "slope: unique values in data = [np.int64(0), np.int64(1), np.int64(2)], expected = [0, 1, 2]\n",
      "ca: unique values in data = [np.int64(0), np.int64(1), np.int64(2), np.int64(3)], expected = [0, 1, 2, 3, 4]\n",
      "  WARNING: Unexpected value(s) in ca!\n",
      "\n",
      "thal: unique values in data = [np.int64(1), np.int64(2), np.int64(3)], expected = [1, 2, 3]\n",
      "target: unique values in data = [np.int64(0), np.int64(1)], expected = [0, 1]\n",
      "\n",
      "--- Basic Statistics ---\n"
     ]
    },
    {
     "data": {
      "text/html": [
       "<div>\n",
       "<style scoped>\n",
       "    .dataframe tbody tr th:only-of-type {\n",
       "        vertical-align: middle;\n",
       "    }\n",
       "\n",
       "    .dataframe tbody tr th {\n",
       "        vertical-align: top;\n",
       "    }\n",
       "\n",
       "    .dataframe thead th {\n",
       "        text-align: right;\n",
       "    }\n",
       "</style>\n",
       "<table border=\"1\" class=\"dataframe\">\n",
       "  <thead>\n",
       "    <tr style=\"text-align: right;\">\n",
       "      <th></th>\n",
       "      <th>age</th>\n",
       "      <th>sex</th>\n",
       "      <th>cp</th>\n",
       "      <th>trestbps</th>\n",
       "      <th>chol</th>\n",
       "      <th>fbs</th>\n",
       "      <th>restecg</th>\n",
       "      <th>thalach</th>\n",
       "      <th>exang</th>\n",
       "      <th>oldpeak</th>\n",
       "      <th>slope</th>\n",
       "      <th>ca</th>\n",
       "      <th>thal</th>\n",
       "      <th>target</th>\n",
       "    </tr>\n",
       "  </thead>\n",
       "  <tbody>\n",
       "    <tr>\n",
       "      <th>count</th>\n",
       "      <td>303.000000</td>\n",
       "      <td>303.000000</td>\n",
       "      <td>303.000000</td>\n",
       "      <td>303.000000</td>\n",
       "      <td>303.000000</td>\n",
       "      <td>303.000000</td>\n",
       "      <td>303.000000</td>\n",
       "      <td>303.000000</td>\n",
       "      <td>303.000000</td>\n",
       "      <td>303.000000</td>\n",
       "      <td>303.000000</td>\n",
       "      <td>303.000000</td>\n",
       "      <td>303.000000</td>\n",
       "      <td>303.000000</td>\n",
       "    </tr>\n",
       "    <tr>\n",
       "      <th>mean</th>\n",
       "      <td>54.438944</td>\n",
       "      <td>0.679868</td>\n",
       "      <td>2.158416</td>\n",
       "      <td>131.689769</td>\n",
       "      <td>246.693069</td>\n",
       "      <td>0.148515</td>\n",
       "      <td>0.990099</td>\n",
       "      <td>149.607261</td>\n",
       "      <td>0.326733</td>\n",
       "      <td>1.039604</td>\n",
       "      <td>0.600660</td>\n",
       "      <td>0.663366</td>\n",
       "      <td>1.831683</td>\n",
       "      <td>0.458746</td>\n",
       "    </tr>\n",
       "    <tr>\n",
       "      <th>std</th>\n",
       "      <td>9.038662</td>\n",
       "      <td>0.467299</td>\n",
       "      <td>0.960126</td>\n",
       "      <td>17.599748</td>\n",
       "      <td>51.776918</td>\n",
       "      <td>0.356198</td>\n",
       "      <td>0.994971</td>\n",
       "      <td>22.875003</td>\n",
       "      <td>0.469794</td>\n",
       "      <td>1.161075</td>\n",
       "      <td>0.616226</td>\n",
       "      <td>0.934375</td>\n",
       "      <td>0.956705</td>\n",
       "      <td>0.499120</td>\n",
       "    </tr>\n",
       "    <tr>\n",
       "      <th>min</th>\n",
       "      <td>29.000000</td>\n",
       "      <td>0.000000</td>\n",
       "      <td>0.000000</td>\n",
       "      <td>94.000000</td>\n",
       "      <td>126.000000</td>\n",
       "      <td>0.000000</td>\n",
       "      <td>0.000000</td>\n",
       "      <td>71.000000</td>\n",
       "      <td>0.000000</td>\n",
       "      <td>0.000000</td>\n",
       "      <td>0.000000</td>\n",
       "      <td>0.000000</td>\n",
       "      <td>1.000000</td>\n",
       "      <td>0.000000</td>\n",
       "    </tr>\n",
       "    <tr>\n",
       "      <th>25%</th>\n",
       "      <td>48.000000</td>\n",
       "      <td>0.000000</td>\n",
       "      <td>2.000000</td>\n",
       "      <td>120.000000</td>\n",
       "      <td>211.000000</td>\n",
       "      <td>0.000000</td>\n",
       "      <td>0.000000</td>\n",
       "      <td>133.500000</td>\n",
       "      <td>0.000000</td>\n",
       "      <td>0.000000</td>\n",
       "      <td>0.000000</td>\n",
       "      <td>0.000000</td>\n",
       "      <td>1.000000</td>\n",
       "      <td>0.000000</td>\n",
       "    </tr>\n",
       "    <tr>\n",
       "      <th>50%</th>\n",
       "      <td>56.000000</td>\n",
       "      <td>1.000000</td>\n",
       "      <td>2.000000</td>\n",
       "      <td>130.000000</td>\n",
       "      <td>241.000000</td>\n",
       "      <td>0.000000</td>\n",
       "      <td>1.000000</td>\n",
       "      <td>153.000000</td>\n",
       "      <td>0.000000</td>\n",
       "      <td>0.800000</td>\n",
       "      <td>1.000000</td>\n",
       "      <td>0.000000</td>\n",
       "      <td>1.000000</td>\n",
       "      <td>0.000000</td>\n",
       "    </tr>\n",
       "    <tr>\n",
       "      <th>75%</th>\n",
       "      <td>61.000000</td>\n",
       "      <td>1.000000</td>\n",
       "      <td>3.000000</td>\n",
       "      <td>140.000000</td>\n",
       "      <td>275.000000</td>\n",
       "      <td>0.000000</td>\n",
       "      <td>2.000000</td>\n",
       "      <td>166.000000</td>\n",
       "      <td>1.000000</td>\n",
       "      <td>1.600000</td>\n",
       "      <td>1.000000</td>\n",
       "      <td>1.000000</td>\n",
       "      <td>3.000000</td>\n",
       "      <td>1.000000</td>\n",
       "    </tr>\n",
       "    <tr>\n",
       "      <th>max</th>\n",
       "      <td>77.000000</td>\n",
       "      <td>1.000000</td>\n",
       "      <td>3.000000</td>\n",
       "      <td>200.000000</td>\n",
       "      <td>564.000000</td>\n",
       "      <td>1.000000</td>\n",
       "      <td>2.000000</td>\n",
       "      <td>202.000000</td>\n",
       "      <td>1.000000</td>\n",
       "      <td>6.200000</td>\n",
       "      <td>2.000000</td>\n",
       "      <td>3.000000</td>\n",
       "      <td>3.000000</td>\n",
       "      <td>1.000000</td>\n",
       "    </tr>\n",
       "  </tbody>\n",
       "</table>\n",
       "</div>"
      ],
      "text/plain": [
       "              age         sex          cp    trestbps        chol         fbs  \\\n",
       "count  303.000000  303.000000  303.000000  303.000000  303.000000  303.000000   \n",
       "mean    54.438944    0.679868    2.158416  131.689769  246.693069    0.148515   \n",
       "std      9.038662    0.467299    0.960126   17.599748   51.776918    0.356198   \n",
       "min     29.000000    0.000000    0.000000   94.000000  126.000000    0.000000   \n",
       "25%     48.000000    0.000000    2.000000  120.000000  211.000000    0.000000   \n",
       "50%     56.000000    1.000000    2.000000  130.000000  241.000000    0.000000   \n",
       "75%     61.000000    1.000000    3.000000  140.000000  275.000000    0.000000   \n",
       "max     77.000000    1.000000    3.000000  200.000000  564.000000    1.000000   \n",
       "\n",
       "          restecg     thalach       exang     oldpeak       slope          ca  \\\n",
       "count  303.000000  303.000000  303.000000  303.000000  303.000000  303.000000   \n",
       "mean     0.990099  149.607261    0.326733    1.039604    0.600660    0.663366   \n",
       "std      0.994971   22.875003    0.469794    1.161075    0.616226    0.934375   \n",
       "min      0.000000   71.000000    0.000000    0.000000    0.000000    0.000000   \n",
       "25%      0.000000  133.500000    0.000000    0.000000    0.000000    0.000000   \n",
       "50%      1.000000  153.000000    0.000000    0.800000    1.000000    0.000000   \n",
       "75%      2.000000  166.000000    1.000000    1.600000    1.000000    1.000000   \n",
       "max      2.000000  202.000000    1.000000    6.200000    2.000000    3.000000   \n",
       "\n",
       "             thal      target  \n",
       "count  303.000000  303.000000  \n",
       "mean     1.831683    0.458746  \n",
       "std      0.956705    0.499120  \n",
       "min      1.000000    0.000000  \n",
       "25%      1.000000    0.000000  \n",
       "50%      1.000000    0.000000  \n",
       "75%      3.000000    1.000000  \n",
       "max      3.000000    1.000000  "
      ]
     },
     "metadata": {},
     "output_type": "display_data"
    }
   ],
   "source": [
    "print(\"\\n--- Categorical Features ---\")\n",
    "expected_values = {\n",
    "       'sex': [0, 1],\n",
    "       'cp': [0, 1, 2, 3],\n",
    "       'fbs': [0, 1],\n",
    "       'restecg': [0, 1, 2],\n",
    "       'exang': [0, 1],\n",
    "       'slope': [0, 1, 2],\n",
    "       'ca': [0, 1, 2, 3, 4],\n",
    "       'thal': [1, 2, 3],\n",
    "       'target': [0, 1]\n",
    "   }\n",
    "\n",
    "for feature, expected in expected_values.items():\n",
    "       if feature in df.columns:\n",
    "           unique_vals = sorted(df[feature].unique())\n",
    "           print(f\"{feature}: unique values in data = {unique_vals}, expected = {expected}\")\n",
    "           if set(unique_vals) != set(expected):\n",
    "               print(f\"  WARNING: Unexpected value(s) in {feature}!\\n\")\n",
    "       else:\n",
    "           print(f\"{feature}: NOT FOUND in DataFrame columns!\\n\")\n",
    "print('\\n--- Basic Statistics ---')\n",
    "display(df.describe(include='all'))"
   ]
  },
  {
   "cell_type": "markdown",
   "id": "26086163",
   "metadata": {},
   "source": [
    "Separate features and target, Identify categorical and numeric features, Split data"
   ]
  },
  {
   "cell_type": "code",
   "execution_count": 5,
   "id": "97be381d",
   "metadata": {},
   "outputs": [
    {
     "name": "stdout",
     "output_type": "stream",
     "text": [
      "Training set size: 242 samples\n",
      "Test set size: 61 samples\n"
     ]
    }
   ],
   "source": [
    "# \n",
    "X = df.drop('target', axis=1)\n",
    "y = df['target']\n",
    "\n",
    "# Identify categorical and numeric features\n",
    "categorical_features = ['sex', 'cp', 'fbs', 'restecg', 'exang', 'slope', 'ca', 'thal']\n",
    "numeric_features = [col for col in X.columns if col not in categorical_features]\n",
    "\n",
    "# Split data\n",
    "X_train, X_test, y_train, y_test = train_test_split(\n",
    "    X, y, test_size=0.2, random_state=42, stratify=y\n",
    ")\n",
    "\n",
    "\n",
    "print(f\"Training set size: {X_train.shape[0]} samples\")\n",
    "print(f\"Test set size: {X_test.shape[0]} samples\")"
   ]
  },
  {
   "cell_type": "markdown",
   "id": "e93a16d4",
   "metadata": {},
   "source": [
    "Preprocessing pipeline"
   ]
  },
  {
   "cell_type": "code",
   "execution_count": 6,
   "id": "501347d7",
   "metadata": {},
   "outputs": [],
   "source": [
    "preprocessor = ColumnTransformer([\n",
    "    ('num', StandardScaler(), numeric_features),\n",
    "    ('cat', OneHotEncoder(handle_unknown='ignore'), categorical_features)\n",
    "])\n",
    "\n",
    "skf = StratifiedKFold(n_splits=5, shuffle=True, random_state=42)"
   ]
  },
  {
   "cell_type": "markdown",
   "id": "b74b55ff",
   "metadata": {},
   "source": [
    "Logistic Regression"
   ]
  },
  {
   "cell_type": "code",
   "execution_count": 7,
   "id": "95cc3cc7",
   "metadata": {},
   "outputs": [
    {
     "name": "stdout",
     "output_type": "stream",
     "text": [
      "Best Logistic Regression params: {'logreg__C': 1, 'logreg__penalty': 'l1', 'logreg__solver': 'saga'}\n",
      "Best F1-score (LogReg): 0.8383428360257629\n"
     ]
    }
   ],
   "source": [
    "pipe_logreg = Pipeline([\n",
    "    ('preprocessor', preprocessor),\n",
    "    ('logreg', LogisticRegression(class_weight='balanced', max_iter=5000, random_state=42))\n",
    "])\n",
    "param_grid_logreg = [\n",
    "    {\n",
    "        'logreg__C': [0.001, 0.01, 0.1, 1, 10, 100, 1000],\n",
    "        'logreg__penalty': ['l2'],\n",
    "        'logreg__solver': ['lbfgs', 'saga', 'newton-cg']\n",
    "    },\n",
    "    {\n",
    "        'logreg__C': [0.001, 0.01, 0.1, 1, 10, 100, 1000],\n",
    "        'logreg__penalty': ['l1'],\n",
    "        'logreg__solver': ['saga']\n",
    "    },\n",
    "    {\n",
    "        'logreg__penalty': [None],\n",
    "        'logreg__solver': ['lbfgs', 'saga', 'newton-cg']\n",
    "    }\n",
    "]\n",
    "grid_logreg = GridSearchCV(pipe_logreg, param_grid_logreg, scoring='f1', cv=skf, n_jobs=-1)\n",
    "grid_logreg.fit(X_train, y_train)\n",
    "print('Best Logistic Regression params:', grid_logreg.best_params_)\n",
    "print('Best F1-score (LogReg):', grid_logreg.best_score_)"
   ]
  },
  {
   "cell_type": "markdown",
   "id": "e31ef7ac",
   "metadata": {},
   "source": [
    "Random Forest "
   ]
  },
  {
   "cell_type": "code",
   "execution_count": 8,
   "id": "aac88c1b",
   "metadata": {},
   "outputs": [
    {
     "name": "stdout",
     "output_type": "stream",
     "text": [
      "Best Random Forest params: {'rf__max_depth': 10, 'rf__min_samples_leaf': 1, 'rf__min_samples_split': 2, 'rf__n_estimators': 100}\n",
      "Best F1-score (RF): 0.8011351321001374\n"
     ]
    }
   ],
   "source": [
    "pipe_rf = Pipeline([\n",
    "    ('preprocessor', preprocessor),\n",
    "    ('rf', RandomForestClassifier(class_weight='balanced', random_state=42))\n",
    "])\n",
    "param_grid_rf = {\n",
    "    'rf__n_estimators': [50, 100, 200],\n",
    "    'rf__max_depth': [None, 9, 10],\n",
    "    'rf__min_samples_split': [2, 5, 10],\n",
    "    'rf__min_samples_leaf': [1, 2, 4]\n",
    "}\n",
    "grid_rf = GridSearchCV(pipe_rf, param_grid_rf, scoring='f1', cv=skf, n_jobs=-1)\n",
    "grid_rf.fit(X_train, y_train)\n",
    "print('Best Random Forest params:', grid_rf.best_params_)\n",
    "print('Best F1-score (RF):', grid_rf.best_score_)"
   ]
  },
  {
   "cell_type": "markdown",
   "id": "ee9d5c65",
   "metadata": {},
   "source": [
    "SVM "
   ]
  },
  {
   "cell_type": "code",
   "execution_count": 9,
   "id": "d27673e9",
   "metadata": {},
   "outputs": [
    {
     "name": "stdout",
     "output_type": "stream",
     "text": [
      "Best SVM params: {'svm__C': 5, 'svm__gamma': 'scale', 'svm__kernel': 'linear'}\n",
      "Best F1-score (SVM): 0.8291417411861446\n"
     ]
    }
   ],
   "source": [
    "pipe_svm = Pipeline([\n",
    "    ('preprocessor', preprocessor),\n",
    "    ('svm', SVC(class_weight='balanced', probability=True, random_state=42))\n",
    "])\n",
    "param_grid_svm = {\n",
    "    'svm__C': [0.01, 4, 5, 10, 100, 1000],\n",
    "    'svm__kernel': ['linear', 'rbf'],\n",
    "    'svm__gamma': ['scale', 'auto', 0.001, 0.01, 0.1, 1, 10]\n",
    "}\n",
    "grid_svm = GridSearchCV(pipe_svm, param_grid_svm, scoring='f1', cv=skf, n_jobs=-1)\n",
    "grid_svm.fit(X_train, y_train)\n",
    "print('Best SVM params:', grid_svm.best_params_)\n",
    "print('Best F1-score (SVM):', grid_svm.best_score_)"
   ]
  },
  {
   "cell_type": "markdown",
   "id": "bd5233ef",
   "metadata": {},
   "source": [
    "Evaluate best models on the test set"
   ]
  },
  {
   "cell_type": "code",
   "execution_count": 10,
   "id": "628aa13e",
   "metadata": {},
   "outputs": [
    {
     "name": "stdout",
     "output_type": "stream",
     "text": [
      "\n",
      "LogReg Test Results:\n",
      "F1-score: 0.847457627118644\n",
      "Accuracy: 0.8524590163934426\n",
      "Classification Report:\n",
      "               precision    recall  f1-score   support\n",
      "\n",
      "           0       0.90      0.82      0.86        33\n",
      "           1       0.81      0.89      0.85        28\n",
      "\n",
      "    accuracy                           0.85        61\n",
      "   macro avg       0.85      0.86      0.85        61\n",
      "weighted avg       0.86      0.85      0.85        61\n",
      "\n"
     ]
    },
    {
     "data": {
      "image/png": "[encoded data removed]",
      "text/plain": [
       "<Figure size 640x480 with 2 Axes>"
      ]
     },
     "metadata": {},
     "output_type": "display_data"
    },
    {
     "name": "stdout",
     "output_type": "stream",
     "text": [
      "\n",
      "Random Forest Test Results:\n",
      "F1-score: 0.8813559322033898\n",
      "Accuracy: 0.8852459016393442\n",
      "Classification Report:\n",
      "               precision    recall  f1-score   support\n",
      "\n",
      "           0       0.93      0.85      0.89        33\n",
      "           1       0.84      0.93      0.88        28\n",
      "\n",
      "    accuracy                           0.89        61\n",
      "   macro avg       0.89      0.89      0.89        61\n",
      "weighted avg       0.89      0.89      0.89        61\n",
      "\n"
     ]
    },
    {
     "data": {
      "image/png": "[encoded data removed]",
      "text/plain": [
       "<Figure size 640x480 with 2 Axes>"
      ]
     },
     "metadata": {},
     "output_type": "display_data"
    },
    {
     "name": "stdout",
     "output_type": "stream",
     "text": [
      "\n",
      "SVM Test Results:\n",
      "F1-score: 0.8524590163934426\n",
      "Accuracy: 0.8524590163934426\n",
      "Classification Report:\n",
      "               precision    recall  f1-score   support\n",
      "\n",
      "           0       0.93      0.79      0.85        33\n",
      "           1       0.79      0.93      0.85        28\n",
      "\n",
      "    accuracy                           0.85        61\n",
      "   macro avg       0.86      0.86      0.85        61\n",
      "weighted avg       0.86      0.85      0.85        61\n",
      "\n"
     ]
    },
    {
     "data": {
      "image/png": "[encoded data removed]",
      "text/plain": [
       "<Figure size 640x480 with 2 Axes>"
      ]
     },
     "metadata": {},
     "output_type": "display_data"
    }
   ],
   "source": [
    "for name, model in [('LogReg', grid_logreg), ('Random Forest', grid_rf), ('SVM', grid_svm)]:\n",
    "    y_pred = model.best_estimator_.predict(X_test)\n",
    "    print(f\"\\n{name} Test Results:\")\n",
    "    print(\"F1-score:\", f1_score(y_test, y_pred))\n",
    "    print(\"Accuracy:\", accuracy_score(y_test, y_pred))\n",
    "    print(\"Classification Report:\\n\", classification_report(y_test, y_pred))\n",
    "\n",
    "    cm = confusion_matrix(y_test, y_pred)\n",
    "    disp = ConfusionMatrixDisplay(confusion_matrix=cm, display_labels=model.best_estimator_.named_steps[list(model.best_estimator_.named_steps.keys())[-1]].classes_)\n",
    "    disp.plot(cmap='Blues')\n",
    "    plt.title(f\"Confusion Matrix - {name} (Test Set)\")\n",
    "    plt.show()"
   ]
  },
  {
   "cell_type": "markdown",
   "id": "d3c7f646",
   "metadata": {},
   "source": [
    "ROC Curves for All Models"
   ]
  },
  {
   "cell_type": "code",
   "execution_count": 11,
   "id": "167a71ad",
   "metadata": {},
   "outputs": [
    {
     "data": {
      "image/png": "[encoded data removed]",
      "text/plain": [
       "<Figure size 800x600 with 1 Axes>"
      ]
     },
     "metadata": {},
     "output_type": "display_data"
    }
   ],
   "source": [
    "plt.figure(figsize=(8, 6))\n",
    "\n",
    "y_score_logreg = grid_logreg.best_estimator_.predict_proba(X_test)[:, 1]\n",
    "fpr_logreg, tpr_logreg, _ = roc_curve(y_test, y_score_logreg)\n",
    "roc_auc_logreg = auc(fpr_logreg, tpr_logreg)\n",
    "plt.plot(fpr_logreg, tpr_logreg, label=f'Logistic Regression (AUC = {roc_auc_logreg:.2f})')\n",
    "\n",
    "y_score_rf = grid_rf.best_estimator_.predict_proba(X_test)[:, 1]\n",
    "fpr_rf, tpr_rf, _ = roc_curve(y_test, y_score_rf)\n",
    "roc_auc_rf = auc(fpr_rf, tpr_rf)\n",
    "plt.plot(fpr_rf, tpr_rf, label=f'Random Forest (AUC = {roc_auc_rf:.2f})')\n",
    "\n",
    "if hasattr(grid_svm.best_estimator_, \"predict_proba\"):\n",
    "    y_score_svm = grid_svm.best_estimator_.predict_proba(X_test)[:, 1]\n",
    "else:\n",
    "    y_score_svm = grid_svm.best_estimator_.decision_function(X_test)\n",
    "fpr_svm, tpr_svm, _ = roc_curve(y_test, y_score_svm)\n",
    "roc_auc_svm = auc(fpr_svm, tpr_svm)\n",
    "plt.plot(fpr_svm, tpr_svm, label=f'SVM (AUC = {roc_auc_svm:.2f})')\n",
    "\n",
    "plt.plot([0, 1], [0, 1], 'k--', label='Chance')\n",
    "plt.xlabel('False Positive Rate')\n",
    "plt.ylabel('True Positive Rate')\n",
    "plt.title('ROC Curves for Classifiers')\n",
    "plt.legend(loc='lower right')\n",
    "plt.grid(True)\n",
    "plt.show()"
   ]
  },
  {
   "cell_type": "markdown",
   "id": "e4889461",
   "metadata": {},
   "source": [
    "PCA + Logistic Regression Pipeline"
   ]
  },
  {
   "cell_type": "code",
   "execution_count": 14,
   "id": "04432f9b",
   "metadata": {},
   "outputs": [
    {
     "name": "stdout",
     "output_type": "stream",
     "text": [
      "Best parameters (PCA pipeline): {'logreg__C': 4, 'logreg__penalty': 'l1', 'logreg__solver': 'saga', 'pca__n_components': 0.99}\n",
      "Best cross-validated F1-score (PCA pipeline): 0.837\n",
      "Test F1-score (LogReg + PCA pipeline): 0.862\n",
      "Test Accuracy (LogReg + PCA pipeline): 0.869\n",
      "\n",
      "Classification Report (LogReg + PCA pipeline):\n",
      "               precision    recall  f1-score   support\n",
      "\n",
      "           0       0.90      0.85      0.88        33\n",
      "           1       0.83      0.89      0.86        28\n",
      "\n",
      "    accuracy                           0.87        61\n",
      "   macro avg       0.87      0.87      0.87        61\n",
      "weighted avg       0.87      0.87      0.87        61\n",
      "\n"
     ]
    },
    {
     "data": {
      "image/png": "[encoded data removed]",
      "text/plain": [
       "<Figure size 640x480 with 2 Axes>"
      ]
     },
     "metadata": {},
     "output_type": "display_data"
    }
   ],
   "source": [
    "pipe_pca = Pipeline([\n",
    "    ('preprocessor', preprocessor),\n",
    "    ('pca', PCA(random_state=42)),\n",
    "    ('logreg', LogisticRegression(class_weight='balanced', max_iter=1000, random_state=42))\n",
    "])\n",
    "\n",
    "param_grid_pca = [\n",
    "    {\n",
    "        'pca__n_components': [0.90, 0.95, 0.99],\n",
    "        'logreg__C': [0.001, 0.01, 0.1, 4, 10, 100, 1000],\n",
    "        'logreg__penalty': ['l2'],\n",
    "        'logreg__solver': ['lbfgs', 'saga', 'newton-cg']\n",
    "    },\n",
    "    {\n",
    "        'pca__n_components': [0.90, 0.95, 0.99],\n",
    "        'logreg__C': [0.001, 0.01, 1, 4, 100, 1000],\n",
    "        'logreg__penalty': ['l1'],\n",
    "        'logreg__solver': ['saga']\n",
    "    },\n",
    "    {\n",
    "        'pca__n_components': [0.90, 0.95, 0.99],\n",
    "        'logreg__penalty': [None],\n",
    "        'logreg__solver': ['lbfgs', 'saga', 'newton-cg']\n",
    "    }\n",
    "]\n",
    "\n",
    "grid_search_pca = GridSearchCV(\n",
    "    estimator=pipe_pca,\n",
    "    param_grid=param_grid_pca,\n",
    "    scoring='f1',\n",
    "    cv=skf,\n",
    "    n_jobs=-1\n",
    ")\n",
    "\n",
    "grid_search_pca.fit(X_train, y_train)\n",
    "\n",
    "print(\"Best parameters (PCA pipeline):\", grid_search_pca.best_params_)\n",
    "print(\"Best cross-validated F1-score (PCA pipeline): {:.3f}\".format(grid_search_pca.best_score_))\n",
    "\n",
    "best_pca_pipe = grid_search_pca.best_estimator_\n",
    "\n",
    "y_pred_pca_pipe = best_pca_pipe.predict(X_test)\n",
    "\n",
    "f1_pca_pipe = f1_score(y_test, y_pred_pca_pipe)\n",
    "accuracy_pca_pipe = accuracy_score(y_test, y_pred_pca_pipe)\n",
    "cm_pca_pipe = confusion_matrix(y_test, y_pred_pca_pipe)\n",
    "\n",
    "print(f\"Test F1-score (LogReg + PCA pipeline): {f1_pca_pipe:.3f}\")\n",
    "print(f\"Test Accuracy (LogReg + PCA pipeline): {accuracy_pca_pipe:.3f}\")\n",
    "print(\"\\nClassification Report (LogReg + PCA pipeline):\\n\", classification_report(y_test, y_pred_pca_pipe))\n",
    "\n",
    "disp = ConfusionMatrixDisplay(confusion_matrix=cm_pca_pipe, display_labels=best_pca_pipe.named_steps['logreg'].classes_)\n",
    "disp.plot(cmap=plt.cm.Blues)\n",
    "plt.title(\"Confusion Matrix - Logistic Regression with PCA Pipeline (Test Set)\")\n",
    "plt.show()"
   ]
  },
  {
   "cell_type": "markdown",
   "id": "51187303",
   "metadata": {},
   "source": [
    "ROC Curve for PCA Pipeline"
   ]
  },
  {
   "cell_type": "code",
   "execution_count": 13,
   "id": "06a58ba1",
   "metadata": {},
   "outputs": [
    {
     "data": {
      "image/png": "[encoded data removed]",
      "text/plain": [
       "<Figure size 800x600 with 1 Axes>"
      ]
     },
     "metadata": {},
     "output_type": "display_data"
    }
   ],
   "source": [
    "if hasattr(best_pca_pipe, \"predict_proba\"):\n",
    "    y_scores_pca = best_pca_pipe.predict_proba(X_test)[:, 1]\n",
    "else:\n",
    "    y_scores_pca = best_pca_pipe.decision_function(X_test)\n",
    "fpr_pca, tpr_pca, _ = roc_curve(y_test, y_scores_pca)\n",
    "roc_auc_pca = auc(fpr_pca, tpr_pca)\n",
    "plt.figure(figsize=(8, 6))\n",
    "plt.plot(fpr_pca, tpr_pca, label=f'LogReg + PCA (AUC = {roc_auc_pca:.2f})')\n",
    "plt.plot([0, 1], [0, 1], 'k--', label='Chance')\n",
    "plt.xlabel('False Positive Rate')\n",
    "plt.ylabel('True Positive Rate')\n",
    "plt.title('ROC Curve for Logistic Regression with PCA Pipeline')\n",
    "plt.legend(loc='lower right')\n",
    "plt.grid(True)\n",
    "plt.show()"
   ]
  },
  {
   "cell_type": "markdown",
   "id": "d8a82d63",
   "metadata": {},
   "source": [
    "Explanation of choices:"
   ]
  },
  {
   "cell_type": "markdown",
   "id": "3e8be781",
   "metadata": {},
   "source": [
    "I experimented with several supervised classification models: Logistic Regression, Random Forest, and Support Vector Machine (SVM). Each model was chosen for its unique strengths and suitability for different data characteristics.\n",
    "\n",
    "Model Characteristics:\n",
    "\n",
    "Logistic Regression is a strong baseline for binary classification, provides interpretable coefficients, and works well when the relationship between features and the target is (mostly) linear.\n",
    "Random Forest is robust to outliers, can capture non-linear relationships, and is less sensitive to feature scaling and the presence of irrelevant features.\n",
    "SVM is effective for high-dimensional data and can model complex decision boundaries, especially with the right kernel (linear or RBF).\n",
    "\n",
    "Choice of Hyperparameters\n",
    "Logistic Regression:\n",
    "\n",
    "I tuned the regularization strength C over a wide range (0.001 to 1000), the penalty type (l1, l2, or no penalty), and the solver (lbfgs, saga, newton-cg) to balance underfitting and overfitting and to ensure compatibility with different penalties.\n",
    "\n",
    "Random Forest:\n",
    "I tuned n_estimators (number of trees), max_depth, min_samples_split, and min_samples_leaf to control model complexity, prevent overfitting, and optimize performance for the dataset size.\n",
    "\n",
    "SVM:\n",
    "I tuned C (regularization), kernel (linear and RBF), and gamma (for RBF) over a wide range of values to find the best margin and decision boundary for the data.\n",
    "For all models, I used class_weight='balanced' to address class imbalance in the dataset.\n",
    "Dimensionality Reduction (PCA)\n",
    "To further analyze model performance, I also applied Principal Component Analysis (PCA) as a dimensionality reduction technique within a pipeline. I compared the results of Logistic Regression with and without PCA to see if reducing the number of features would improve accuracy or generalization.\n",
    "PCA was integrated into the pipeline and tuned using cross-validation to ensure a fair and consistent comparison.\n",
    "\n",
    "Model Selection\n",
    "The best parameters for each model were selected based on cross-validated F1-score, which balances precision and recall and is especially important for imbalanced classification problems.\n",
    "\n",
    "After evaluating the initial results with a broad set of primary hyperparameter values, I observed that the best performance was achieved with a value (e.g., C=10) that was at the edge or in the middle of the tested range. To ensure that this was truly optimal and not a local maximum, I refined the search by testing additional values around this point (such as C=4, 5, 6, 7, 8, 9, 11, 12, 13, etc.), allowing for a more precise identification of the best-performing hyperparameters.\n",
    "\n",
    "\n",
    "\n"
   ]
  },
  {
   "cell_type": "markdown",
   "id": "87745f94",
   "metadata": {},
   "source": [
    "\n",
    "The Heart Disease Cleveland dataset is moderately sized and slightly imbalanced, with a mix of numeric and categorical features. Because the target classes are not perfectly balanced, all models were trained with class_weight='balanced' to ensure that the minority class—patients with heart disease—received appropriate attention, improving recall and overall F1-score. For Logistic Regression, the best results were achieved with L1 regularization (penalty='l1'), the 'saga' solver, and a regularization strength of C=1. This configuration is particularly effective for data where some features may be irrelevant or redundant, as L1 regularization drives their coefficients to zero, effectively performing feature selection. The 'saga' solver is required for L1 and is efficient for high-dimensional data, while the moderate C value balances underfitting and overfitting. Random Forest achieved the highest F1-score and accuracy with 100 trees, a maximum depth of 10, and minimal constraints on splits and leaves. This setup allows the model to capture complex, non-linear relationships in the data while controlling for overfitting, which is important given the dataset’s size and feature diversity. The SVM performed best with a linear kernel and a higher regularization parameter (C=5), indicating that the data, after preprocessing and one-hot encoding, is well separated in the transformed feature space. The higher C value allows the model to fit the data more closely, and the use of class_weight='balanced' ensures sensitivity to the minority class. When applying PCA before Logistic Regression, the best results were achieved by retaining 99% of the variance (n_components=0.99) and using L1 regularization with C=4. PCA reduces dimensionality and noise, and L1 regularization further selects the most relevant principal components, helping generalization. \n",
    "\n",
    "The difference in model performance between retaining 99% and 95% of the variance with PCA was minimal, as both configurations preserved most of the informative signal in the data. However, when using pca__n_components=0.95, the best results were achieved with an L2 penalty (penalty='l2') and the 'lbfgs' solver. The L2 penalty is particularly suitable after PCA because, with dimensionality reduction, the remaining principal components are typically uncorrelated and all may contribute useful information. L2 regularization shrinks all coefficients but does not force any to zero, allowing the model to leverage the full set of principal components for prediction. The 'lbfgs' solver is efficient and robust for L2-regularized logistic regression, especially when the number of features is moderate, as is the case after PCA."
   ]
  }
 ],
 "metadata": {
  "kernelspec": {
   "display_name": "venv",
   "language": "python",
   "name": "python3"
  },
  "language_info": {
   "codemirror_mode": {
    "name": "ipython",
    "version": 3
   },
   "file_extension": ".py",
   "mimetype": "text/x-python",
   "name": "python",
   "nbconvert_exporter": "python",
   "pygments_lexer": "ipython3",
   "version": "3.12.8"
  }
 },
 "nbformat": 4,
 "nbformat_minor": 5
}
